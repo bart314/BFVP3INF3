{
  "cells": [
    {
      "metadata": {
        "collapsed": true
      },
      "cell_type": "markdown",
      "source": "## Week Challenge 1\n\nIn deze challenge wordt je gevraagd om een script te analyseren en aan te vullen. Het script kun je vinden in de voorbeeldscript folder en heet <a href='https://notebooks.azure.com/f-feenstra/projects/bfvp3inf3/html/Voorbeeldscripts/bridge.py'>bridge.py</a>"
    },
    {
      "metadata": {},
      "cell_type": "markdown",
      "source": "## Class diagram\n\nMaak een class diagram van de classes van het script. Dit kun je op de computer doen met een tekenprogramma maar dit kun je ook doen op papier. Als je niet weet hoe te beginnen begin dan met per klasse een blok te tekenen met daarin de attributen en de methods en probeer daarna deze te verbinden met lijntjes. Zoek op internet naar de uitleg van class diagrams. Een aardige referentie is van de <a href = \"https://www.cs.drexel.edu/~spiros/teaching/CS575/slides/uml.pdf\"> drexel university</a> "
    },
    {
      "metadata": {},
      "cell_type": "markdown",
      "source": "## Beantwoord de vragen\n\n1. Hoeveel classes staan er in dit script\n2. Welke objecten worden er allemaal aangemaakt\n3. Hoeveel 'implementaties' zijn er van de interface\n4. Bedenk een casus dat je dit principe van hergebruik door verschillende implementaties ook zou kunnen toepassen\n5. Waarom wordt de parameter path in de method show_content meegegeven en niet bij de constructor?\n6. Waarom hebben sommige classes geen constructor?\n"
    },
    {
      "metadata": {},
      "cell_type": "markdown",
      "source": "## Opdracht\n\nVoeg een implementatie toe waarbij een CSV file wordt uitgelezen en geprint"
    }
  ],
  "metadata": {
    "kernelspec": {
      "name": "python36",
      "display_name": "Python 3.6",
      "language": "python"
    },
    "language_info": {
      "mimetype": "text/x-python",
      "nbconvert_exporter": "python",
      "name": "python",
      "pygments_lexer": "ipython3",
      "version": "3.6.6",
      "file_extension": ".py",
      "codemirror_mode": {
        "version": 3,
        "name": "ipython"
      }
    }
  },
  "nbformat": 4,
  "nbformat_minor": 2
}