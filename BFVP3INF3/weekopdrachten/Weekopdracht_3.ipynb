{
  "cells": [
    {
      "metadata": {},
      "cell_type": "markdown",
      "source": "# Week 3 \nThis week we write a more advanced class including special methods "
    },
    {
      "metadata": {},
      "cell_type": "markdown",
      "source": "## Creating a class\nCreate a class AminoAcidSequence with the following functionality\n\n1. A developer readable object description\n2. An user (human readable) object description\n3. Implementation  of builtin len that returns the length of the amino-acid sequence\n4. A check if it only contains valid amino-acids\n5. Make your aminoacid object iterable\n6. Implementation of builtin next that makes that we can can keep iterating over the sequence \n7. Implementation of builtin add that allow us to add other sequence to your amino-acid sequence \n8. When you call your object as a function it returns the composition of the sequence"
    },
    {
      "metadata": {},
      "cell_type": "markdown",
      "source": "## Writing a test script to test the functionalities\nNow write a test script to test the functionalities"
    },
    {
      "metadata": {},
      "cell_type": "markdown",
      "source": "Submit your aminoacidsequence.py containing the class and the test script test_aminoacidsequence.py to blackboard"
    }
  ],
  "metadata": {
    "kernelspec": {
      "name": "python36",
      "display_name": "Python 3.6",
      "language": "python"
    },
    "language_info": {
      "mimetype": "text/x-python",
      "nbconvert_exporter": "python",
      "name": "python",
      "pygments_lexer": "ipython3",
      "version": "3.6.6",
      "file_extension": ".py",
      "codemirror_mode": {
        "version": 3,
        "name": "ipython"
      }
    }
  },
  "nbformat": 4,
  "nbformat_minor": 1
}