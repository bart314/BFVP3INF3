{
  "cells": [
    {
      "metadata": {
        "collapsed": true
      },
      "cell_type": "markdown",
      "source": "# Week 2 \n\nIn deze week kijken we naar de principes van over erven en overschrijven van code. Ook denken we na over efficiente code"
    },
    {
      "metadata": {},
      "cell_type": "markdown",
      "source": "## opdracht 1\n\n1. Creer een basis class Animal. De Animal heeft de volgende eigenschappen: type voedsel wat het eet, heeft honger ja of nee en de locatie van zijn verblijf. De Animal kan lawaai maken, eten, slapen en 'roamen'. De Animal honger status is default ja. \n2. Maak ook een class diagram voor deze classe. \n3. Maak een test case voor deze classe\n"
    },
    {
      "metadata": {
        "trusted": true
      },
      "cell_type": "code",
      "source": "",
      "execution_count": null,
      "outputs": []
    },
    {
      "metadata": {},
      "cell_type": "markdown",
      "source": "## Opdracht 2\n\n1. Creer een class Hippo van het type Animal. De Hippo kan geluid maken en eten. Schrijf hiervoor de code.\n2. maak een test case voor deze Hippo classe\n"
    },
    {
      "metadata": {
        "trusted": true
      },
      "cell_type": "code",
      "source": "",
      "execution_count": null,
      "outputs": []
    },
    {
      "metadata": {},
      "cell_type": "markdown",
      "source": "## Opdracht 3\n\n1. Creer classes van het type Animal voor Cat, Lion en Tiger. Al deze dieren kunnen geluid maken, eten en roamen\n2. maak een test case voor de classes"
    },
    {
      "metadata": {
        "trusted": true
      },
      "cell_type": "code",
      "source": "",
      "execution_count": null,
      "outputs": []
    },
    {
      "metadata": {},
      "cell_type": "markdown",
      "source": "## Opdracht 4\n\n1. Creer classes van het type Animal voor Wolf en Hond. Al deze dieren kunnen geluid maken, eten en roamen\n2. maak een test case voor de classes"
    },
    {
      "metadata": {
        "trusted": true
      },
      "cell_type": "code",
      "source": "",
      "execution_count": null,
      "outputs": []
    },
    {
      "metadata": {},
      "cell_type": "markdown",
      "source": "## Opdracht 5\n\n1. Doe je dingen nu eigenlijk toch nog dubbel? Kun je nog iets abstraheren? \n2. Refactor je code \n3. Maak een classe diagram van je uiteindelijke oplossing\n\n"
    },
    {
      "metadata": {
        "trusted": true
      },
      "cell_type": "code",
      "source": "",
      "execution_count": null,
      "outputs": []
    },
    {
      "metadata": {},
      "cell_type": "markdown",
      "source": "## Challenge: Verander 'Is a' in a 'Has a' structuur. \n\nDeze challenge is voor als je het leuk vind om je zelf uit te dagen\n\nBekijk de code uit de voorbeelscripts: solid_ISP_good.py\n\n1. waar zie je de implementatie van `Has A` in plaats van `Is A`?\n2. Wat valt je op aan de base classes?\n3. Waarom is deze code efficienter dan code die alleen maar overerft?\n4. Refactor de Animal code op zo'n manier dat je gebruik maakt van behavior classes en abstract classes\n"
    },
    {
      "metadata": {},
      "cell_type": "markdown",
      "source": "Lever de code van de Animal classes in een script in op blackboard. Lever ook je classe diagram in. Check je code voordat je hem upload met \n1. black\n2. pylint\n\nTip: met pyreverse kun je ook een classe diagram maken"
    }
  ],
  "metadata": {
    "kernelspec": {
      "name": "python36",
      "display_name": "Python 3.6",
      "language": "python"
    },
    "language_info": {
      "mimetype": "text/x-python",
      "nbconvert_exporter": "python",
      "name": "python",
      "pygments_lexer": "ipython3",
      "version": "3.6.6",
      "file_extension": ".py",
      "codemirror_mode": {
        "version": 3,
        "name": "ipython"
      }
    }
  },
  "nbformat": 4,
  "nbformat_minor": 2
}