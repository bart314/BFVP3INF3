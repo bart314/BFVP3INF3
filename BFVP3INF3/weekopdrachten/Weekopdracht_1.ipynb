{
  "cells": [
    {
      "metadata": {},
      "cell_type": "markdown",
      "source": "# Week 1 opdracht\n\nMiddels deelopdrachten maak je twee classes: de classe Protein en de classe RestrictionEnzyme. Lever de beide classes in via blackboard"
    },
    {
      "metadata": {},
      "cell_type": "markdown",
      "source": "### Assignment 1: Create a class that models/represents proteins:\nInstantiate the class and give it the attributes name and amino acid sequence. Then print the attributes to screen."
    },
    {
      "metadata": {
        "trusted": true
      },
      "cell_type": "code",
      "source": "class Protein():\n    #do not modify this\n    pass\n\nprot = Protein()\nprot.name = 'Glucose-6-phospatase'\nprot.sequence = 'MEEGMNVLHDFGIQSTHYLQVNYQAVVPLASVSVIPYCLAQVLGQPHKKSL'\nprint('Protein: name {}, sequence: {}'.format(prot.name, prot.sequence))\n",
      "execution_count": 1,
      "outputs": [
        {
          "output_type": "stream",
          "text": "Protein: name Glucose-6-phospatase, sequence: MEEGMNVLHDFGIQSTHYLQVNYQAVVPLASVSVIPYCLAQVLGQPHKKSL\n",
          "name": "stdout"
        }
      ]
    },
    {
      "metadata": {},
      "cell_type": "markdown",
      "source": "### Assignment 2: Create a class that models/represents proteins:\nNow make the attributes name and amino acid sequence mandatory by specifying them in a **constructor**. Again, instantiate a Protein object and print the attributes to screen.\n"
    },
    {
      "metadata": {
        "trusted": false
      },
      "cell_type": "code",
      "source": "class Protein():\n    #modify this\n    pass\n\n# put your code here to instantiate a Protein object and print the attributes to screen\n# expected outcome: Protein: name=Glucose-6-phospatase, sequence=MEEGMNVLHDFGIQSTHYLQVNYQAVVPLASVSVIPYCLAQVLGQPHKKSL",
      "execution_count": 15,
      "outputs": []
    },
    {
      "metadata": {},
      "cell_type": "markdown",
      "source": "### Assignment 3: Create a class that models/represents proteins:\nNext, change the constructor to make the name attribute optional - give it the default value “UNNAMED PROTEIN”. Demonstrate construction of a Protein object both with and without name."
    },
    {
      "metadata": {
        "trusted": false
      },
      "cell_type": "code",
      "source": "class Protein():\n    #modify this\n    pass\n\n# put your code here to instantiate a Protein object and print the attributes to screen",
      "execution_count": 16,
      "outputs": []
    },
    {
      "metadata": {},
      "cell_type": "markdown",
      "source": "### Assignment 4: Create a class that models/represents proteins:\nNow, create a method that will generate a human-readable string representation of a Protein object when passed to print(). Take care that sequences longer than 20 amino acids get truncated. Hint: use `__str__`\n\n"
    },
    {
      "metadata": {
        "trusted": false
      },
      "cell_type": "code",
      "source": "class Protein():\n    #modify this\n    pass\n\n# put your code here to instantiate a Protein object and print the a human-readable string representation to screen",
      "execution_count": 17,
      "outputs": []
    },
    {
      "metadata": {},
      "cell_type": "markdown",
      "source": "### Assignment 5: Create a class that models/represents proteins:\nCreate a method that will generate a string representation of the protein in Fasta format. Look this format up on internet if you are not sure about it"
    },
    {
      "metadata": {
        "trusted": false
      },
      "cell_type": "code",
      "source": "class Protein():\n    #modify this\n    def tofasta():\n        pass\n    \n# initiate an object to test it",
      "execution_count": 18,
      "outputs": []
    },
    {
      "metadata": {},
      "cell_type": "markdown",
      "source": "### Assignment 6: Create a class that models/represents restriction enzymes, \nCreate a constructor that takes two arguments, the name and the recognition sequence.\n"
    },
    {
      "metadata": {
        "trusted": false
      },
      "cell_type": "code",
      "source": "class RestrictionEnzyme():\n    # put your constructor here\n    pass",
      "execution_count": 19,
      "outputs": []
    },
    {
      "metadata": {},
      "cell_type": "markdown",
      "source": "### Assignment 7: Create a class that models/represents restriction enzymes\nCreate a method that will generate a human-readable string representation of a RestrictionEnzyme object when passed to print(). (see assingment 4)"
    },
    {
      "metadata": {
        "trusted": false
      },
      "cell_type": "code",
      "source": "class RestrictionEnzyme():\n    # put your constructor here\n    # put your print method here\n    ...\n\n",
      "execution_count": 20,
      "outputs": []
    },
    {
      "metadata": {},
      "cell_type": "markdown",
      "source": "### Assignment 8: Refactor\nModify this script to make use of objects of a class, RestrictionEnzyme, that models the tuples in the list. Implement and use the `__str__()` method as well."
    },
    {
      "metadata": {
        "trusted": false
      },
      "cell_type": "code",
      "source": "# copy this code and modify the copied code\nimport re\nseq = 'ACAGTCGACTGATCGGGTTGACCCATAGCTACGGTGAAAGCTT'\nresEnz=[\n  ('HincII', 'GT[CT][AG]AC', 'GTYRAC'),\n  ('HpyCH4III', 'AC[ACGT]GT', 'ACNGT'),\n  ('AluI', 'AGCT', 'AGCT')\n]\nfor entry in resEnz:\n  recSeq = entry[1]\n  p = re.compile(recSeq)\n  for m in p.finditer(seq):\n    print( '{} [{}]: position={}, sequence={}'.format(entry[0], entry[2], m.start(), m.group())) ",
      "execution_count": 21,
      "outputs": [
        {
          "name": "stdout",
          "output_type": "stream",
          "text": "HincII [GTYRAC]: position=3, sequence=GTCGAC\nHincII [GTYRAC]: position=16, sequence=GTTGAC\nHpyCH4III [ACNGT]: position=0, sequence=ACAGT\nHpyCH4III [ACNGT]: position=30, sequence=ACGGT\nAluI [AGCT]: position=26, sequence=AGCT\nAluI [AGCT]: position=38, sequence=AGCT\n"
        }
      ]
    }
  ],
  "metadata": {
    "kernelspec": {
      "name": "python3",
      "display_name": "Python 3",
      "language": "python"
    },
    "language_info": {
      "mimetype": "text/x-python",
      "nbconvert_exporter": "python",
      "name": "python",
      "file_extension": ".py",
      "version": "3.5.4",
      "pygments_lexer": "ipython3",
      "codemirror_mode": {
        "version": 3,
        "name": "ipython"
      }
    }
  },
  "nbformat": 4,
  "nbformat_minor": 2
}